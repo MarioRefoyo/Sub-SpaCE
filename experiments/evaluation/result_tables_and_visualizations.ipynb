{
 "cells": [
  {
   "cell_type": "code",
   "execution_count": 1,
   "metadata": {
    "ExecuteTime": {
     "end_time": "2024-03-04T11:05:37.854092400Z",
     "start_time": "2024-03-04T11:05:37.838472800Z"
    }
   },
   "outputs": [
    {
     "name": "stdout",
     "output_type": "stream",
     "text": [
      "C:\\Users\\mrefoyo\\Documents\\Proyectos\\counterfactuals_PFGs\n"
     ]
    }
   ],
   "source": [
    "cd ../.."
   ]
  },
  {
   "cell_type": "code",
   "execution_count": 2,
   "metadata": {
    "ExecuteTime": {
     "end_time": "2024-03-04T11:05:42.994753300Z",
     "start_time": "2024-03-04T11:05:37.854092400Z"
    }
   },
   "outputs": [
    {
     "name": "stdout",
     "output_type": "stream",
     "text": [
      "2.13.0\n"
     ]
    }
   ],
   "source": [
    "import os\n",
    "import pickle\n",
    "import copy\n",
    "import numpy as np\n",
    "import pandas as pd\n",
    "import matplotlib.pyplot as plt\n",
    "import matplotlib.gridspec as gridspec\n",
    "from tqdm import tqdm\n",
    "import tensorflow as tf\n",
    "from tensorflow import keras\n",
    "\n",
    "from experiments.experiment_utils import local_data_loader, label_encoder, nun_retrieval\n",
    "from methods.outlier_calculators import AEOutlierCalculator\n",
    "from experiments.evaluation.evaluation_utils import calculate_metrics\n",
    "\n",
    "print(tf.__version__)"
   ]
  },
  {
   "cell_type": "code",
   "execution_count": 3,
   "metadata": {
    "ExecuteTime": {
     "end_time": "2024-03-04T11:27:41.895267700Z",
     "start_time": "2024-03-04T11:27:41.863988100Z"
    }
   },
   "outputs": [],
   "source": [
    "# datasets = ['CBF', 'chinatown', 'coffee', 'gunpoint', 'ECG200']\n",
    "datasets = ['CBF', 'chinatown', 'coffee', 'gunpoint', 'ECG200']"
   ]
  },
  {
   "cell_type": "code",
   "execution_count": null,
   "metadata": {
    "ExecuteTime": {
     "end_time": "2024-03-04T11:27:42.239001600Z",
     "start_time": "2024-03-04T11:27:42.145278300Z"
    }
   },
   "outputs": [],
   "source": []
  },
  {
   "cell_type": "markdown",
   "metadata": {},
   "source": [
    "# Load data and models. Calculate NUNs"
   ]
  },
  {
   "cell_type": "code",
   "execution_count": 4,
   "metadata": {
    "ExecuteTime": {
     "end_time": "2024-03-04T11:27:47.660925500Z",
     "start_time": "2024-03-04T11:27:42.598414300Z"
    }
   },
   "outputs": [
    {
     "name": "stdout",
     "output_type": "stream",
     "text": [
      "29/29 [==============================] - 0s 11ms/step\n",
      "11/11 [==============================] - 0s 5ms/step\n",
      "1/1 [==============================] - 0s 127ms/step\n",
      "WARNING:tensorflow:5 out of the last 15 calls to <function Model.make_predict_function.<locals>.predict_function at 0x000001D9A9BA74C0> triggered tf.function retracing. Tracing is expensive and the excessive number of tracings could be due to (1) creating @tf.function repeatedly in a loop, (2) passing tensors with different shapes, (3) passing Python objects instead of tensors. For (1), please define your @tf.function outside of the loop. For (2), @tf.function has reduce_retracing=True option that can avoid unnecessary retracing. For (3), please refer to https://www.tensorflow.org/guide/function#controlling_retracing and https://www.tensorflow.org/api_docs/python/tf/function for  more details.\n",
      "5/5 [==============================] - 0s 14ms/step\n",
      "WARNING:tensorflow:6 out of the last 20 calls to <function Model.make_predict_function.<locals>.predict_function at 0x000001D9A9D12F70> triggered tf.function retracing. Tracing is expensive and the excessive number of tracings could be due to (1) creating @tf.function repeatedly in a loop, (2) passing tensors with different shapes, (3) passing Python objects instead of tensors. For (1), please define your @tf.function outside of the loop. For (2), @tf.function has reduce_retracing=True option that can avoid unnecessary retracing. For (3), please refer to https://www.tensorflow.org/guide/function#controlling_retracing and https://www.tensorflow.org/api_docs/python/tf/function for  more details.\n",
      "4/4 [==============================] - 0s 10ms/step\n"
     ]
    }
   ],
   "source": [
    "data_dict = {}\n",
    "models_dict = {}\n",
    "outlier_calculators_dict = {}\n",
    "nuns_idx_dict = {}\n",
    "desired_classes_dict = {}\n",
    "original_classes_dict = {}\n",
    "\n",
    "for dataset in datasets:\n",
    "    X_train, y_train, X_test, y_test = local_data_loader(str(dataset), data_path=\"./experiments/data\")\n",
    "    y_train, y_test = label_encoder(y_train, y_test)\n",
    "    data_dict[dataset] = (X_train, y_train, X_test, y_test)\n",
    "\n",
    "    # Load model\n",
    "    model = keras.models.load_model(f'./experiments/models/{dataset}/{dataset}_best_model.hdf5')\n",
    "    y_pred = np.argmax(model.predict(X_test), axis=1)\n",
    "    original_classes_dict[dataset] = y_pred\n",
    "    models_dict[dataset] = model\n",
    "\n",
    "    # Load outlier calculator\n",
    "    ae = keras.models.load_model(f'./experiments/models/{dataset}/{dataset}_ae.hdf5')\n",
    "    outlier_calculator = AEOutlierCalculator(ae, X_train)\n",
    "    outlier_calculators_dict[dataset] = outlier_calculator  \n",
    "\n",
    "    # Get the NUNs\n",
    "    nuns_idx = []\n",
    "    desired_classes = []\n",
    "    for instance_idx in range(len(X_test)):\n",
    "        distances, indexes, labels = nun_retrieval(X_test[instance_idx], y_pred[instance_idx], 'euclidean', 1, X_train, y_train)\n",
    "        nuns_idx.append(indexes[0])\n",
    "        desired_classes.append(labels[0])\n",
    "    nuns_idx_dict[dataset] = np.array(nuns_idx)\n",
    "    desired_classes_dict[dataset] = np.array(desired_classes)"
   ]
  },
  {
   "cell_type": "markdown",
   "metadata": {},
   "source": [
    "# Compare results"
   ]
  },
  {
   "cell_type": "code",
   "execution_count": 5,
   "metadata": {
    "ExecuteTime": {
     "end_time": "2024-03-04T11:39:55.463344400Z",
     "start_time": "2024-03-04T11:39:55.432084400Z"
    }
   },
   "outputs": [],
   "source": [
    "# methods = None\n",
    "# methods = ['wcf_ng', 'ng', 'tsevo_v3_reduced', 'gen_v6_complete21']\n",
    "# methods = ['ng', 'ng_ours', 'ng_tsinterpret', 'sets', 'sets_tsinterpret', 'sets_our_ng', 'subspace']\n",
    "# methods = ['ng', 'sets', 'sets_tsinterpret', 'sets_our_ng', 'subspace']\n",
    "methods = ['wcf_ng', 'ng', 'ab_cf', 'subspace']\n",
    "counterfactual_methods = [f\"{method}.pickle\" for method in methods]"
   ]
  },
  {
   "cell_type": "markdown",
   "metadata": {},
   "source": [
    "## All samples of the test set"
   ]
  },
  {
   "cell_type": "code",
   "execution_count": 6,
   "metadata": {
    "ExecuteTime": {
     "end_time": "2024-03-04T11:40:59.229442600Z",
     "start_time": "2024-03-04T11:39:55.978934800Z"
    }
   },
   "outputs": [
    {
     "name": "stdout",
     "output_type": "stream",
     "text": [
      "Calculating metrics for CBF\n",
      "ab_cf.pickle\n"
     ]
    },
    {
     "name": "stderr",
     "output_type": "stream",
     "text": [
      "100%|████████████████████████████████████████████████████████████████████████████████████████████████████████████████████████████████████████████| 900/900 [00:42<00:00, 21.41it/s]\n"
     ]
    },
    {
     "name": "stdout",
     "output_type": "stream",
     "text": [
      "ng.pickle\n"
     ]
    },
    {
     "name": "stderr",
     "output_type": "stream",
     "text": [
      "100%|████████████████████████████████████████████████████████████████████████████████████████████████████████████████████████████████████████████| 900/900 [00:42<00:00, 21.32it/s]\n"
     ]
    },
    {
     "name": "stdout",
     "output_type": "stream",
     "text": [
      "subspace.pickle\n"
     ]
    },
    {
     "name": "stderr",
     "output_type": "stream",
     "text": [
      "100%|████████████████████████████████████████████████████████████████████████████████████████████████████████████████████████████████████████████| 900/900 [00:42<00:00, 21.13it/s]\n"
     ]
    },
    {
     "name": "stdout",
     "output_type": "stream",
     "text": [
      "wcf_ng.pickle\n"
     ]
    },
    {
     "name": "stderr",
     "output_type": "stream",
     "text": [
      "100%|████████████████████████████████████████████████████████████████████████████████████████████████████████████████████████████████████████████| 900/900 [00:42<00:00, 21.10it/s]\n"
     ]
    },
    {
     "name": "stdout",
     "output_type": "stream",
     "text": [
      "Calculating metrics for chinatown\n",
      "ab_cf.pickle\n"
     ]
    },
    {
     "name": "stderr",
     "output_type": "stream",
     "text": [
      "100%|████████████████████████████████████████████████████████████████████████████████████████████████████████████████████████████████████████████| 343/343 [00:15<00:00, 21.70it/s]\n"
     ]
    },
    {
     "name": "stdout",
     "output_type": "stream",
     "text": [
      "ng.pickle\n"
     ]
    },
    {
     "name": "stderr",
     "output_type": "stream",
     "text": [
      "100%|████████████████████████████████████████████████████████████████████████████████████████████████████████████████████████████████████████████| 343/343 [00:16<00:00, 21.35it/s]\n"
     ]
    },
    {
     "name": "stdout",
     "output_type": "stream",
     "text": [
      "subspace.pickle\n"
     ]
    },
    {
     "name": "stderr",
     "output_type": "stream",
     "text": [
      "100%|████████████████████████████████████████████████████████████████████████████████████████████████████████████████████████████████████████████| 343/343 [00:15<00:00, 21.65it/s]\n"
     ]
    },
    {
     "name": "stdout",
     "output_type": "stream",
     "text": [
      "wcf_ng.pickle\n"
     ]
    },
    {
     "name": "stderr",
     "output_type": "stream",
     "text": [
      "100%|████████████████████████████████████████████████████████████████████████████████████████████████████████████████████████████████████████████| 343/343 [00:15<00:00, 21.64it/s]\n"
     ]
    },
    {
     "name": "stdout",
     "output_type": "stream",
     "text": [
      "Calculating metrics for coffee\n",
      "ab_cf.pickle\n"
     ]
    },
    {
     "name": "stderr",
     "output_type": "stream",
     "text": [
      "100%|██████████████████████████████████████████████████████████████████████████████████████████████████████████████████████████████████████████████| 28/28 [00:01<00:00, 20.87it/s]\n"
     ]
    },
    {
     "name": "stdout",
     "output_type": "stream",
     "text": [
      "ng.pickle\n"
     ]
    },
    {
     "name": "stderr",
     "output_type": "stream",
     "text": [
      "100%|██████████████████████████████████████████████████████████████████████████████████████████████████████████████████████████████████████████████| 28/28 [00:01<00:00, 20.88it/s]\n"
     ]
    },
    {
     "name": "stdout",
     "output_type": "stream",
     "text": [
      "subspace.pickle\n"
     ]
    },
    {
     "name": "stderr",
     "output_type": "stream",
     "text": [
      "100%|██████████████████████████████████████████████████████████████████████████████████████████████████████████████████████████████████████████████| 28/28 [00:01<00:00, 20.98it/s]\n"
     ]
    },
    {
     "name": "stdout",
     "output_type": "stream",
     "text": [
      "wcf_ng.pickle\n"
     ]
    },
    {
     "name": "stderr",
     "output_type": "stream",
     "text": [
      "100%|██████████████████████████████████████████████████████████████████████████████████████████████████████████████████████████████████████████████| 28/28 [00:01<00:00, 20.93it/s]\n"
     ]
    },
    {
     "name": "stdout",
     "output_type": "stream",
     "text": [
      "Calculating metrics for gunpoint\n",
      "ab_cf.pickle\n"
     ]
    },
    {
     "name": "stderr",
     "output_type": "stream",
     "text": [
      "100%|████████████████████████████████████████████████████████████████████████████████████████████████████████████████████████████████████████████| 150/150 [00:07<00:00, 20.40it/s]\n"
     ]
    },
    {
     "name": "stdout",
     "output_type": "stream",
     "text": [
      "ng.pickle\n"
     ]
    },
    {
     "name": "stderr",
     "output_type": "stream",
     "text": [
      "100%|████████████████████████████████████████████████████████████████████████████████████████████████████████████████████████████████████████████| 150/150 [00:07<00:00, 21.08it/s]\n"
     ]
    },
    {
     "name": "stdout",
     "output_type": "stream",
     "text": [
      "subspace.pickle\n"
     ]
    },
    {
     "name": "stderr",
     "output_type": "stream",
     "text": [
      "100%|████████████████████████████████████████████████████████████████████████████████████████████████████████████████████████████████████████████| 150/150 [00:07<00:00, 21.19it/s]\n"
     ]
    },
    {
     "name": "stdout",
     "output_type": "stream",
     "text": [
      "wcf_ng.pickle\n"
     ]
    },
    {
     "name": "stderr",
     "output_type": "stream",
     "text": [
      "100%|████████████████████████████████████████████████████████████████████████████████████████████████████████████████████████████████████████████| 150/150 [00:07<00:00, 21.10it/s]\n"
     ]
    },
    {
     "name": "stdout",
     "output_type": "stream",
     "text": [
      "Calculating metrics for ECG200\n",
      "ab_cf.pickle\n"
     ]
    },
    {
     "name": "stderr",
     "output_type": "stream",
     "text": [
      "100%|████████████████████████████████████████████████████████████████████████████████████████████████████████████████████████████████████████████| 100/100 [00:04<00:00, 21.24it/s]\n"
     ]
    },
    {
     "name": "stdout",
     "output_type": "stream",
     "text": [
      "ng.pickle\n"
     ]
    },
    {
     "name": "stderr",
     "output_type": "stream",
     "text": [
      "100%|████████████████████████████████████████████████████████████████████████████████████████████████████████████████████████████████████████████| 100/100 [00:04<00:00, 21.23it/s]\n"
     ]
    },
    {
     "name": "stdout",
     "output_type": "stream",
     "text": [
      "subspace.pickle\n"
     ]
    },
    {
     "name": "stderr",
     "output_type": "stream",
     "text": [
      "100%|████████████████████████████████████████████████████████████████████████████████████████████████████████████████████████████████████████████| 100/100 [00:04<00:00, 21.08it/s]\n"
     ]
    },
    {
     "name": "stdout",
     "output_type": "stream",
     "text": [
      "wcf_ng.pickle\n"
     ]
    },
    {
     "name": "stderr",
     "output_type": "stream",
     "text": [
      "100%|████████████████████████████████████████████████████████████████████████████████████████████████████████████████████████████████████████████| 100/100 [00:05<00:00, 20.00it/s]\n"
     ]
    }
   ],
   "source": [
    "final_table_results_all = {}\n",
    "sol_cfs_dict = {}\n",
    "\n",
    "all_samples_results_all = pd.DataFrame()\n",
    "for dataset in datasets:\n",
    "    print(f'Calculating metrics for {dataset}')\n",
    "    # Load all solutions for the dataset and calculate metrics\n",
    "    results_df = pd.DataFrame()\n",
    "    counterfactual_solution_files = [fname for fname in os.listdir(f'./experiments/results/{dataset}/')]\n",
    "    sol_cfs_dataset = {}\n",
    "    for i, sol_file_name in enumerate(counterfactual_solution_files):\n",
    "        # Filter methods in case methods is not None\n",
    "        if methods is not None:\n",
    "            if sol_file_name not in counterfactual_methods:\n",
    "                continue\n",
    "        # Filter out those results with reduced in the name\n",
    "        if (\"reduced\" in sol_file_name) or (\"-\" in sol_file_name):\n",
    "            continue\n",
    "        with open(f'./experiments/results/{dataset}/{sol_file_name}', 'rb') as f:\n",
    "            print(sol_file_name)\n",
    "            sol_cfs = pickle.load(f)\n",
    "        X_train, y_train, X_test, y_test = data_dict[dataset]\n",
    "        sol_name = sol_file_name.replace('.pickle', '')\n",
    "        sol_metrics = calculate_metrics(models_dict[dataset], outlier_calculators_dict[dataset], \n",
    "                                        X_train, X_test, nuns_idx_dict[dataset],\n",
    "                                        sol_cfs, original_classes_dict[dataset], sol_name, order=i+1)\n",
    "        results_df = pd.concat([results_df, sol_metrics])\n",
    "        sol_cfs_dataset[sol_name] = sol_cfs\n",
    "\n",
    "    sol_cfs_dict[dataset] = sol_cfs_dataset\n",
    "    # Calculate results table for the dataset\n",
    "    means_df = results_df.groupby('method').mean()\n",
    "    means_df = means_df.sort_values('order').drop('order', axis=1)\n",
    "    stds_df = results_df.groupby('method').std()\n",
    "    stds_df = stds_df.drop('order', axis=1)\n",
    "    stds_df = stds_df.reindex(means_df.index)\n",
    "    mean_std_df = means_df.round(2).astype(str) + \" ± \" + stds_df.round(2).astype(str)\n",
    "    mean_std_df = mean_std_df.reset_index()\n",
    "    final_table_results_all[dataset] = mean_std_df\n",
    "\n",
    "    results_df['dataset'] = dataset\n",
    "    all_samples_results_all = pd.concat([all_samples_results_all, results_df])"
   ]
  },
  {
   "cell_type": "code",
   "execution_count": 11,
   "metadata": {
    "ExecuteTime": {
     "end_time": "2024-03-04T11:40:59.323192800Z",
     "start_time": "2024-03-04T11:40:59.245044Z"
    }
   },
   "outputs": [
    {
     "name": "stdout",
     "output_type": "stream",
     "text": [
      "CBF\n"
     ]
    },
    {
     "data": {
      "text/html": [
       "<div>\n",
       "<style scoped>\n",
       "    .dataframe tbody tr th:only-of-type {\n",
       "        vertical-align: middle;\n",
       "    }\n",
       "\n",
       "    .dataframe tbody tr th {\n",
       "        vertical-align: top;\n",
       "    }\n",
       "\n",
       "    .dataframe thead th {\n",
       "        text-align: right;\n",
       "    }\n",
       "</style>\n",
       "<table border=\"1\" class=\"dataframe\">\n",
       "  <thead>\n",
       "    <tr style=\"text-align: right;\">\n",
       "      <th></th>\n",
       "      <th>method</th>\n",
       "      <th>nchanges</th>\n",
       "      <th>sparsity</th>\n",
       "      <th>L1</th>\n",
       "      <th>L2</th>\n",
       "      <th>proba</th>\n",
       "      <th>valid</th>\n",
       "      <th>outlier_score</th>\n",
       "      <th>increase_outlier_score</th>\n",
       "      <th>subsequences</th>\n",
       "      <th>subsequences %</th>\n",
       "      <th>times</th>\n",
       "    </tr>\n",
       "  </thead>\n",
       "  <tbody>\n",
       "    <tr>\n",
       "      <th>0</th>\n",
       "      <td>ab_cf</td>\n",
       "      <td>67.03 ± 23.28</td>\n",
       "      <td>0.52 ± 0.18</td>\n",
       "      <td>48.87 ± 17.89</td>\n",
       "      <td>7.46 ± 1.97</td>\n",
       "      <td>0.83 ± 0.16</td>\n",
       "      <td>1.0 ± 0.0</td>\n",
       "      <td>0.94 ± 0.13</td>\n",
       "      <td>0.13 ± 0.11</td>\n",
       "      <td>2.46 ± 0.75</td>\n",
       "      <td>0.04 ± 0.01</td>\n",
       "      <td>-1.0 ± 0.0</td>\n",
       "    </tr>\n",
       "    <tr>\n",
       "      <th>1</th>\n",
       "      <td>ng</td>\n",
       "      <td>39.71 ± 16.26</td>\n",
       "      <td>0.31 ± 0.13</td>\n",
       "      <td>28.86 ± 11.59</td>\n",
       "      <td>5.6 ± 1.44</td>\n",
       "      <td>0.63 ± 0.13</td>\n",
       "      <td>0.96 ± 0.19</td>\n",
       "      <td>0.91 ± 0.12</td>\n",
       "      <td>0.1 ± 0.09</td>\n",
       "      <td>1.0 ± 0.0</td>\n",
       "      <td>0.02 ± 0.0</td>\n",
       "      <td>-1.0 ± 0.0</td>\n",
       "    </tr>\n",
       "    <tr>\n",
       "      <th>2</th>\n",
       "      <td>subspace</td>\n",
       "      <td>25.82 ± 11.09</td>\n",
       "      <td>0.2 ± 0.09</td>\n",
       "      <td>26.09 ± 10.66</td>\n",
       "      <td>5.88 ± 1.4</td>\n",
       "      <td>0.97 ± 0.02</td>\n",
       "      <td>1.0 ± 0.0</td>\n",
       "      <td>0.89 ± 0.09</td>\n",
       "      <td>0.07 ± 0.06</td>\n",
       "      <td>2.39 ± 0.93</td>\n",
       "      <td>0.04 ± 0.01</td>\n",
       "      <td>172.65 ± 95.65</td>\n",
       "    </tr>\n",
       "    <tr>\n",
       "      <th>3</th>\n",
       "      <td>wcf_ng</td>\n",
       "      <td>87.22 ± 59.18</td>\n",
       "      <td>0.68 ± 0.46</td>\n",
       "      <td>12.74 ± 14.3</td>\n",
       "      <td>6.1 ± 13.22</td>\n",
       "      <td>0.53 ± 0.04</td>\n",
       "      <td>1.0 ± 0.0</td>\n",
       "      <td>1.05 ± 0.57</td>\n",
       "      <td>0.24 ± 0.56</td>\n",
       "      <td>1.14 ± 0.44</td>\n",
       "      <td>0.02 ± 0.01</td>\n",
       "      <td>-1.0 ± 0.0</td>\n",
       "    </tr>\n",
       "  </tbody>\n",
       "</table>\n",
       "</div>"
      ],
      "text/plain": [
       "     method       nchanges     sparsity             L1           L2  \\\n",
       "0     ab_cf  67.03 ± 23.28  0.52 ± 0.18  48.87 ± 17.89  7.46 ± 1.97   \n",
       "1        ng  39.71 ± 16.26  0.31 ± 0.13  28.86 ± 11.59   5.6 ± 1.44   \n",
       "2  subspace  25.82 ± 11.09   0.2 ± 0.09  26.09 ± 10.66   5.88 ± 1.4   \n",
       "3    wcf_ng  87.22 ± 59.18  0.68 ± 0.46   12.74 ± 14.3  6.1 ± 13.22   \n",
       "\n",
       "         proba        valid outlier_score increase_outlier_score subsequences  \\\n",
       "0  0.83 ± 0.16    1.0 ± 0.0   0.94 ± 0.13            0.13 ± 0.11  2.46 ± 0.75   \n",
       "1  0.63 ± 0.13  0.96 ± 0.19   0.91 ± 0.12             0.1 ± 0.09    1.0 ± 0.0   \n",
       "2  0.97 ± 0.02    1.0 ± 0.0   0.89 ± 0.09            0.07 ± 0.06  2.39 ± 0.93   \n",
       "3  0.53 ± 0.04    1.0 ± 0.0   1.05 ± 0.57            0.24 ± 0.56  1.14 ± 0.44   \n",
       "\n",
       "  subsequences %           times  \n",
       "0    0.04 ± 0.01      -1.0 ± 0.0  \n",
       "1     0.02 ± 0.0      -1.0 ± 0.0  \n",
       "2    0.04 ± 0.01  172.65 ± 95.65  \n",
       "3    0.02 ± 0.01      -1.0 ± 0.0  "
      ]
     },
     "metadata": {},
     "output_type": "display_data"
    },
    {
     "name": "stdout",
     "output_type": "stream",
     "text": [
      "chinatown\n"
     ]
    },
    {
     "data": {
      "text/html": [
       "<div>\n",
       "<style scoped>\n",
       "    .dataframe tbody tr th:only-of-type {\n",
       "        vertical-align: middle;\n",
       "    }\n",
       "\n",
       "    .dataframe tbody tr th {\n",
       "        vertical-align: top;\n",
       "    }\n",
       "\n",
       "    .dataframe thead th {\n",
       "        text-align: right;\n",
       "    }\n",
       "</style>\n",
       "<table border=\"1\" class=\"dataframe\">\n",
       "  <thead>\n",
       "    <tr style=\"text-align: right;\">\n",
       "      <th></th>\n",
       "      <th>method</th>\n",
       "      <th>nchanges</th>\n",
       "      <th>sparsity</th>\n",
       "      <th>L1</th>\n",
       "      <th>L2</th>\n",
       "      <th>proba</th>\n",
       "      <th>valid</th>\n",
       "      <th>outlier_score</th>\n",
       "      <th>increase_outlier_score</th>\n",
       "      <th>subsequences</th>\n",
       "      <th>subsequences %</th>\n",
       "      <th>times</th>\n",
       "    </tr>\n",
       "  </thead>\n",
       "  <tbody>\n",
       "    <tr>\n",
       "      <th>0</th>\n",
       "      <td>ab_cf</td>\n",
       "      <td>9.03 ± 1.63</td>\n",
       "      <td>0.38 ± 0.07</td>\n",
       "      <td>956.16 ± 287.53</td>\n",
       "      <td>430.97 ± 123.65</td>\n",
       "      <td>0.95 ± 0.1</td>\n",
       "      <td>1.0 ± 0.0</td>\n",
       "      <td>0.56 ± 0.13</td>\n",
       "      <td>0.02 ± 0.04</td>\n",
       "      <td>1.1 ± 0.31</td>\n",
       "      <td>0.09 ± 0.03</td>\n",
       "      <td>-1.0 ± 0.0</td>\n",
       "    </tr>\n",
       "    <tr>\n",
       "      <th>1</th>\n",
       "      <td>ng</td>\n",
       "      <td>7.92 ± 1.8</td>\n",
       "      <td>0.33 ± 0.08</td>\n",
       "      <td>841.67 ± 265.55</td>\n",
       "      <td>393.09 ± 124.49</td>\n",
       "      <td>0.91 ± 0.14</td>\n",
       "      <td>1.0 ± 0.0</td>\n",
       "      <td>0.56 ± 0.13</td>\n",
       "      <td>0.02 ± 0.04</td>\n",
       "      <td>1.0 ± 0.0</td>\n",
       "      <td>0.08 ± 0.0</td>\n",
       "      <td>-1.0 ± 0.0</td>\n",
       "    </tr>\n",
       "    <tr>\n",
       "      <th>2</th>\n",
       "      <td>subspace</td>\n",
       "      <td>2.87 ± 0.88</td>\n",
       "      <td>0.12 ± 0.04</td>\n",
       "      <td>647.67 ± 232.15</td>\n",
       "      <td>399.87 ± 120.52</td>\n",
       "      <td>0.97 ± 0.04</td>\n",
       "      <td>1.0 ± 0.0</td>\n",
       "      <td>0.56 ± 0.12</td>\n",
       "      <td>0.02 ± 0.03</td>\n",
       "      <td>1.21 ± 0.41</td>\n",
       "      <td>0.1 ± 0.03</td>\n",
       "      <td>34.19 ± 2.83</td>\n",
       "    </tr>\n",
       "    <tr>\n",
       "      <th>3</th>\n",
       "      <td>wcf_ng</td>\n",
       "      <td>23.2 ± 4.23</td>\n",
       "      <td>0.97 ± 0.18</td>\n",
       "      <td>1671.17 ± 585.41</td>\n",
       "      <td>662.7 ± 211.41</td>\n",
       "      <td>0.63 ± 0.1</td>\n",
       "      <td>1.0 ± 0.0</td>\n",
       "      <td>0.77 ± 0.17</td>\n",
       "      <td>0.19 ± 0.14</td>\n",
       "      <td>1.0 ± 0.0</td>\n",
       "      <td>0.08 ± 0.0</td>\n",
       "      <td>-1.0 ± 0.0</td>\n",
       "    </tr>\n",
       "  </tbody>\n",
       "</table>\n",
       "</div>"
      ],
      "text/plain": [
       "     method     nchanges     sparsity                L1               L2  \\\n",
       "0     ab_cf  9.03 ± 1.63  0.38 ± 0.07   956.16 ± 287.53  430.97 ± 123.65   \n",
       "1        ng   7.92 ± 1.8  0.33 ± 0.08   841.67 ± 265.55  393.09 ± 124.49   \n",
       "2  subspace  2.87 ± 0.88  0.12 ± 0.04   647.67 ± 232.15  399.87 ± 120.52   \n",
       "3    wcf_ng  23.2 ± 4.23  0.97 ± 0.18  1671.17 ± 585.41   662.7 ± 211.41   \n",
       "\n",
       "         proba      valid outlier_score increase_outlier_score subsequences  \\\n",
       "0   0.95 ± 0.1  1.0 ± 0.0   0.56 ± 0.13            0.02 ± 0.04   1.1 ± 0.31   \n",
       "1  0.91 ± 0.14  1.0 ± 0.0   0.56 ± 0.13            0.02 ± 0.04    1.0 ± 0.0   \n",
       "2  0.97 ± 0.04  1.0 ± 0.0   0.56 ± 0.12            0.02 ± 0.03  1.21 ± 0.41   \n",
       "3   0.63 ± 0.1  1.0 ± 0.0   0.77 ± 0.17            0.19 ± 0.14    1.0 ± 0.0   \n",
       "\n",
       "  subsequences %         times  \n",
       "0    0.09 ± 0.03    -1.0 ± 0.0  \n",
       "1     0.08 ± 0.0    -1.0 ± 0.0  \n",
       "2     0.1 ± 0.03  34.19 ± 2.83  \n",
       "3     0.08 ± 0.0    -1.0 ± 0.0  "
      ]
     },
     "metadata": {},
     "output_type": "display_data"
    },
    {
     "name": "stdout",
     "output_type": "stream",
     "text": [
      "coffee\n"
     ]
    },
    {
     "data": {
      "text/html": [
       "<div>\n",
       "<style scoped>\n",
       "    .dataframe tbody tr th:only-of-type {\n",
       "        vertical-align: middle;\n",
       "    }\n",
       "\n",
       "    .dataframe tbody tr th {\n",
       "        vertical-align: top;\n",
       "    }\n",
       "\n",
       "    .dataframe thead th {\n",
       "        text-align: right;\n",
       "    }\n",
       "</style>\n",
       "<table border=\"1\" class=\"dataframe\">\n",
       "  <thead>\n",
       "    <tr style=\"text-align: right;\">\n",
       "      <th></th>\n",
       "      <th>method</th>\n",
       "      <th>nchanges</th>\n",
       "      <th>sparsity</th>\n",
       "      <th>L1</th>\n",
       "      <th>L2</th>\n",
       "      <th>proba</th>\n",
       "      <th>valid</th>\n",
       "      <th>outlier_score</th>\n",
       "      <th>increase_outlier_score</th>\n",
       "      <th>subsequences</th>\n",
       "      <th>subsequences %</th>\n",
       "      <th>times</th>\n",
       "    </tr>\n",
       "  </thead>\n",
       "  <tbody>\n",
       "    <tr>\n",
       "      <th>0</th>\n",
       "      <td>ab_cf</td>\n",
       "      <td>159.0 ± 44.47</td>\n",
       "      <td>0.56 ± 0.16</td>\n",
       "      <td>13.43 ± 4.56</td>\n",
       "      <td>1.38 ± 0.36</td>\n",
       "      <td>0.87 ± 0.16</td>\n",
       "      <td>1.0 ± 0.0</td>\n",
       "      <td>0.87 ± 0.06</td>\n",
       "      <td>0.01 ± 0.02</td>\n",
       "      <td>1.54 ± 0.74</td>\n",
       "      <td>0.01 ± 0.01</td>\n",
       "      <td>-1.0 ± 0.0</td>\n",
       "    </tr>\n",
       "    <tr>\n",
       "      <th>1</th>\n",
       "      <td>ng</td>\n",
       "      <td>37.18 ± 17.53</td>\n",
       "      <td>0.13 ± 0.06</td>\n",
       "      <td>6.29 ± 2.26</td>\n",
       "      <td>1.26 ± 0.24</td>\n",
       "      <td>0.67 ± 0.17</td>\n",
       "      <td>1.0 ± 0.0</td>\n",
       "      <td>0.9 ± 0.1</td>\n",
       "      <td>0.04 ± 0.04</td>\n",
       "      <td>1.0 ± 0.0</td>\n",
       "      <td>0.01 ± 0.0</td>\n",
       "      <td>-1.0 ± 0.0</td>\n",
       "    </tr>\n",
       "    <tr>\n",
       "      <th>2</th>\n",
       "      <td>subspace</td>\n",
       "      <td>22.5 ± 8.99</td>\n",
       "      <td>0.08 ± 0.03</td>\n",
       "      <td>3.93 ± 1.38</td>\n",
       "      <td>1.0 ± 0.25</td>\n",
       "      <td>0.99 ± 0.01</td>\n",
       "      <td>1.0 ± 0.0</td>\n",
       "      <td>0.88 ± 0.09</td>\n",
       "      <td>0.02 ± 0.03</td>\n",
       "      <td>3.07 ± 0.86</td>\n",
       "      <td>0.02 ± 0.01</td>\n",
       "      <td>50.61 ± 5.34</td>\n",
       "    </tr>\n",
       "    <tr>\n",
       "      <th>3</th>\n",
       "      <td>wcf_ng</td>\n",
       "      <td>286.0 ± 0.0</td>\n",
       "      <td>1.0 ± 0.0</td>\n",
       "      <td>3.2 ± 1.5</td>\n",
       "      <td>1.1 ± 0.25</td>\n",
       "      <td>0.59 ± 0.06</td>\n",
       "      <td>1.0 ± 0.0</td>\n",
       "      <td>0.92 ± 0.09</td>\n",
       "      <td>0.06 ± 0.04</td>\n",
       "      <td>1.0 ± 0.0</td>\n",
       "      <td>0.01 ± 0.0</td>\n",
       "      <td>-1.0 ± 0.0</td>\n",
       "    </tr>\n",
       "  </tbody>\n",
       "</table>\n",
       "</div>"
      ],
      "text/plain": [
       "     method       nchanges     sparsity            L1           L2  \\\n",
       "0     ab_cf  159.0 ± 44.47  0.56 ± 0.16  13.43 ± 4.56  1.38 ± 0.36   \n",
       "1        ng  37.18 ± 17.53  0.13 ± 0.06   6.29 ± 2.26  1.26 ± 0.24   \n",
       "2  subspace    22.5 ± 8.99  0.08 ± 0.03   3.93 ± 1.38   1.0 ± 0.25   \n",
       "3    wcf_ng    286.0 ± 0.0    1.0 ± 0.0     3.2 ± 1.5   1.1 ± 0.25   \n",
       "\n",
       "         proba      valid outlier_score increase_outlier_score subsequences  \\\n",
       "0  0.87 ± 0.16  1.0 ± 0.0   0.87 ± 0.06            0.01 ± 0.02  1.54 ± 0.74   \n",
       "1  0.67 ± 0.17  1.0 ± 0.0     0.9 ± 0.1            0.04 ± 0.04    1.0 ± 0.0   \n",
       "2  0.99 ± 0.01  1.0 ± 0.0   0.88 ± 0.09            0.02 ± 0.03  3.07 ± 0.86   \n",
       "3  0.59 ± 0.06  1.0 ± 0.0   0.92 ± 0.09            0.06 ± 0.04    1.0 ± 0.0   \n",
       "\n",
       "  subsequences %         times  \n",
       "0    0.01 ± 0.01    -1.0 ± 0.0  \n",
       "1     0.01 ± 0.0    -1.0 ± 0.0  \n",
       "2    0.02 ± 0.01  50.61 ± 5.34  \n",
       "3     0.01 ± 0.0    -1.0 ± 0.0  "
      ]
     },
     "metadata": {},
     "output_type": "display_data"
    },
    {
     "name": "stdout",
     "output_type": "stream",
     "text": [
      "gunpoint\n"
     ]
    },
    {
     "data": {
      "text/html": [
       "<div>\n",
       "<style scoped>\n",
       "    .dataframe tbody tr th:only-of-type {\n",
       "        vertical-align: middle;\n",
       "    }\n",
       "\n",
       "    .dataframe tbody tr th {\n",
       "        vertical-align: top;\n",
       "    }\n",
       "\n",
       "    .dataframe thead th {\n",
       "        text-align: right;\n",
       "    }\n",
       "</style>\n",
       "<table border=\"1\" class=\"dataframe\">\n",
       "  <thead>\n",
       "    <tr style=\"text-align: right;\">\n",
       "      <th></th>\n",
       "      <th>method</th>\n",
       "      <th>nchanges</th>\n",
       "      <th>sparsity</th>\n",
       "      <th>L1</th>\n",
       "      <th>L2</th>\n",
       "      <th>proba</th>\n",
       "      <th>valid</th>\n",
       "      <th>outlier_score</th>\n",
       "      <th>increase_outlier_score</th>\n",
       "      <th>subsequences</th>\n",
       "      <th>subsequences %</th>\n",
       "      <th>times</th>\n",
       "    </tr>\n",
       "  </thead>\n",
       "  <tbody>\n",
       "    <tr>\n",
       "      <th>0</th>\n",
       "      <td>ab_cf</td>\n",
       "      <td>65.2 ± 40.87</td>\n",
       "      <td>0.43 ± 0.27</td>\n",
       "      <td>17.58 ± 14.58</td>\n",
       "      <td>2.92 ± 1.86</td>\n",
       "      <td>0.89 ± 0.13</td>\n",
       "      <td>1.0 ± 0.0</td>\n",
       "      <td>0.66 ± 0.16</td>\n",
       "      <td>0.11 ± 0.11</td>\n",
       "      <td>1.98 ± 0.52</td>\n",
       "      <td>0.03 ± 0.01</td>\n",
       "      <td>-1.0 ± 0.0</td>\n",
       "    </tr>\n",
       "    <tr>\n",
       "      <th>1</th>\n",
       "      <td>ng</td>\n",
       "      <td>29.17 ± 22.3</td>\n",
       "      <td>0.19 ± 0.15</td>\n",
       "      <td>10.59 ± 9.39</td>\n",
       "      <td>2.34 ± 1.74</td>\n",
       "      <td>0.63 ± 0.12</td>\n",
       "      <td>1.0 ± 0.0</td>\n",
       "      <td>0.7 ± 0.24</td>\n",
       "      <td>0.14 ± 0.16</td>\n",
       "      <td>1.0 ± 0.0</td>\n",
       "      <td>0.01 ± 0.0</td>\n",
       "      <td>-1.0 ± 0.0</td>\n",
       "    </tr>\n",
       "    <tr>\n",
       "      <th>2</th>\n",
       "      <td>subspace</td>\n",
       "      <td>13.89 ± 8.3</td>\n",
       "      <td>0.09 ± 0.06</td>\n",
       "      <td>5.61 ± 5.11</td>\n",
       "      <td>1.64 ± 1.12</td>\n",
       "      <td>0.97 ± 0.03</td>\n",
       "      <td>1.0 ± 0.0</td>\n",
       "      <td>0.61 ± 0.12</td>\n",
       "      <td>0.05 ± 0.05</td>\n",
       "      <td>2.19 ± 0.81</td>\n",
       "      <td>0.03 ± 0.01</td>\n",
       "      <td>58.1 ± 7.84</td>\n",
       "    </tr>\n",
       "    <tr>\n",
       "      <th>3</th>\n",
       "      <td>wcf_ng</td>\n",
       "      <td>141.16 ± 35.11</td>\n",
       "      <td>0.94 ± 0.23</td>\n",
       "      <td>3.62 ± 2.59</td>\n",
       "      <td>1.0 ± 1.04</td>\n",
       "      <td>0.55 ± 0.04</td>\n",
       "      <td>1.0 ± 0.0</td>\n",
       "      <td>0.65 ± 0.17</td>\n",
       "      <td>0.09 ± 0.09</td>\n",
       "      <td>1.08 ± 0.38</td>\n",
       "      <td>0.01 ± 0.01</td>\n",
       "      <td>-1.0 ± 0.0</td>\n",
       "    </tr>\n",
       "  </tbody>\n",
       "</table>\n",
       "</div>"
      ],
      "text/plain": [
       "     method        nchanges     sparsity             L1           L2  \\\n",
       "0     ab_cf    65.2 ± 40.87  0.43 ± 0.27  17.58 ± 14.58  2.92 ± 1.86   \n",
       "1        ng    29.17 ± 22.3  0.19 ± 0.15   10.59 ± 9.39  2.34 ± 1.74   \n",
       "2  subspace     13.89 ± 8.3  0.09 ± 0.06    5.61 ± 5.11  1.64 ± 1.12   \n",
       "3    wcf_ng  141.16 ± 35.11  0.94 ± 0.23    3.62 ± 2.59   1.0 ± 1.04   \n",
       "\n",
       "         proba      valid outlier_score increase_outlier_score subsequences  \\\n",
       "0  0.89 ± 0.13  1.0 ± 0.0   0.66 ± 0.16            0.11 ± 0.11  1.98 ± 0.52   \n",
       "1  0.63 ± 0.12  1.0 ± 0.0    0.7 ± 0.24            0.14 ± 0.16    1.0 ± 0.0   \n",
       "2  0.97 ± 0.03  1.0 ± 0.0   0.61 ± 0.12            0.05 ± 0.05  2.19 ± 0.81   \n",
       "3  0.55 ± 0.04  1.0 ± 0.0   0.65 ± 0.17            0.09 ± 0.09  1.08 ± 0.38   \n",
       "\n",
       "  subsequences %        times  \n",
       "0    0.03 ± 0.01   -1.0 ± 0.0  \n",
       "1     0.01 ± 0.0   -1.0 ± 0.0  \n",
       "2    0.03 ± 0.01  58.1 ± 7.84  \n",
       "3    0.01 ± 0.01   -1.0 ± 0.0  "
      ]
     },
     "metadata": {},
     "output_type": "display_data"
    },
    {
     "name": "stdout",
     "output_type": "stream",
     "text": [
      "ECG200\n"
     ]
    },
    {
     "data": {
      "text/html": [
       "<div>\n",
       "<style scoped>\n",
       "    .dataframe tbody tr th:only-of-type {\n",
       "        vertical-align: middle;\n",
       "    }\n",
       "\n",
       "    .dataframe tbody tr th {\n",
       "        vertical-align: top;\n",
       "    }\n",
       "\n",
       "    .dataframe thead th {\n",
       "        text-align: right;\n",
       "    }\n",
       "</style>\n",
       "<table border=\"1\" class=\"dataframe\">\n",
       "  <thead>\n",
       "    <tr style=\"text-align: right;\">\n",
       "      <th></th>\n",
       "      <th>method</th>\n",
       "      <th>nchanges</th>\n",
       "      <th>sparsity</th>\n",
       "      <th>L1</th>\n",
       "      <th>L2</th>\n",
       "      <th>proba</th>\n",
       "      <th>valid</th>\n",
       "      <th>outlier_score</th>\n",
       "      <th>increase_outlier_score</th>\n",
       "      <th>subsequences</th>\n",
       "      <th>subsequences %</th>\n",
       "      <th>times</th>\n",
       "    </tr>\n",
       "  </thead>\n",
       "  <tbody>\n",
       "    <tr>\n",
       "      <th>0</th>\n",
       "      <td>ab_cf</td>\n",
       "      <td>56.78 ± 29.39</td>\n",
       "      <td>0.59 ± 0.31</td>\n",
       "      <td>23.0 ± 14.87</td>\n",
       "      <td>3.77 ± 1.85</td>\n",
       "      <td>0.9 ± 0.14</td>\n",
       "      <td>0.94 ± 0.24</td>\n",
       "      <td>0.81 ± 0.19</td>\n",
       "      <td>0.09 ± 0.11</td>\n",
       "      <td>1.61 ± 0.78</td>\n",
       "      <td>0.03 ± 0.02</td>\n",
       "      <td>-1.0 ± 0.0</td>\n",
       "    </tr>\n",
       "    <tr>\n",
       "      <th>1</th>\n",
       "      <td>ng</td>\n",
       "      <td>16.67 ± 21.39</td>\n",
       "      <td>0.17 ± 0.22</td>\n",
       "      <td>8.89 ± 9.11</td>\n",
       "      <td>2.62 ± 1.48</td>\n",
       "      <td>0.78 ± 0.18</td>\n",
       "      <td>1.0 ± 0.0</td>\n",
       "      <td>0.8 ± 0.2</td>\n",
       "      <td>0.07 ± 0.11</td>\n",
       "      <td>1.0 ± 0.0</td>\n",
       "      <td>0.02 ± 0.0</td>\n",
       "      <td>-1.0 ± 0.0</td>\n",
       "    </tr>\n",
       "    <tr>\n",
       "      <th>2</th>\n",
       "      <td>subspace</td>\n",
       "      <td>6.41 ± 4.02</td>\n",
       "      <td>0.07 ± 0.04</td>\n",
       "      <td>5.62 ± 4.89</td>\n",
       "      <td>2.41 ± 1.3</td>\n",
       "      <td>0.98 ± 0.02</td>\n",
       "      <td>1.0 ± 0.0</td>\n",
       "      <td>0.79 ± 0.17</td>\n",
       "      <td>0.05 ± 0.06</td>\n",
       "      <td>1.31 ± 0.61</td>\n",
       "      <td>0.03 ± 0.01</td>\n",
       "      <td>44.72 ± 0.76</td>\n",
       "    </tr>\n",
       "    <tr>\n",
       "      <th>3</th>\n",
       "      <td>wcf_ng</td>\n",
       "      <td>58.22 ± 46.51</td>\n",
       "      <td>0.61 ± 0.48</td>\n",
       "      <td>3.78 ± 2.56</td>\n",
       "      <td>2.22 ± 1.71</td>\n",
       "      <td>0.59 ± 0.07</td>\n",
       "      <td>1.0 ± 0.0</td>\n",
       "      <td>0.86 ± 0.26</td>\n",
       "      <td>0.12 ± 0.14</td>\n",
       "      <td>1.21 ± 0.48</td>\n",
       "      <td>0.03 ± 0.01</td>\n",
       "      <td>-1.0 ± 0.0</td>\n",
       "    </tr>\n",
       "  </tbody>\n",
       "</table>\n",
       "</div>"
      ],
      "text/plain": [
       "     method       nchanges     sparsity            L1           L2  \\\n",
       "0     ab_cf  56.78 ± 29.39  0.59 ± 0.31  23.0 ± 14.87  3.77 ± 1.85   \n",
       "1        ng  16.67 ± 21.39  0.17 ± 0.22   8.89 ± 9.11  2.62 ± 1.48   \n",
       "2  subspace    6.41 ± 4.02  0.07 ± 0.04   5.62 ± 4.89   2.41 ± 1.3   \n",
       "3    wcf_ng  58.22 ± 46.51  0.61 ± 0.48   3.78 ± 2.56  2.22 ± 1.71   \n",
       "\n",
       "         proba        valid outlier_score increase_outlier_score subsequences  \\\n",
       "0   0.9 ± 0.14  0.94 ± 0.24   0.81 ± 0.19            0.09 ± 0.11  1.61 ± 0.78   \n",
       "1  0.78 ± 0.18    1.0 ± 0.0     0.8 ± 0.2            0.07 ± 0.11    1.0 ± 0.0   \n",
       "2  0.98 ± 0.02    1.0 ± 0.0   0.79 ± 0.17            0.05 ± 0.06  1.31 ± 0.61   \n",
       "3  0.59 ± 0.07    1.0 ± 0.0   0.86 ± 0.26            0.12 ± 0.14  1.21 ± 0.48   \n",
       "\n",
       "  subsequences %         times  \n",
       "0    0.03 ± 0.02    -1.0 ± 0.0  \n",
       "1     0.02 ± 0.0    -1.0 ± 0.0  \n",
       "2    0.03 ± 0.01  44.72 ± 0.76  \n",
       "3    0.03 ± 0.01    -1.0 ± 0.0  "
      ]
     },
     "metadata": {},
     "output_type": "display_data"
    }
   ],
   "source": [
    "from IPython.display import display\n",
    "for dataset in datasets:\n",
    "    print(dataset)\n",
    "    display(final_table_results_all[dataset])"
   ]
  },
  {
   "cell_type": "code",
   "execution_count": null,
   "metadata": {
    "ExecuteTime": {
     "end_time": "2024-03-04T11:32:25.663263800Z",
     "start_time": "2024-03-04T11:32:25.475493Z"
    },
    "collapsed": false,
    "jupyter": {
     "outputs_hidden": false
    }
   },
   "outputs": [],
   "source": []
  },
  {
   "cell_type": "code",
   "execution_count": null,
   "metadata": {
    "ExecuteTime": {
     "end_time": "2024-03-04T11:41:06.620115800Z",
     "start_time": "2024-03-04T11:41:06.604464400Z"
    },
    "collapsed": false,
    "jupyter": {
     "outputs_hidden": false
    }
   },
   "outputs": [],
   "source": []
  },
  {
   "cell_type": "code",
   "execution_count": 12,
   "metadata": {
    "ExecuteTime": {
     "end_time": "2024-03-04T11:41:07.135728400Z",
     "start_time": "2024-03-04T11:41:07.088825900Z"
    }
   },
   "outputs": [],
   "source": [
    "methods_trad_dict = dict(zip(methods, ['W-CF', 'NG', 'AB-CF', 'Sub-SpaCE']))\n",
    "methods_order = dict(zip(list(methods_trad_dict.values()), list(range(len(methods_trad_dict)))))\n",
    "\n",
    "datasets_trad_dict = {\"CBF\": \"CBF\", \"chinatown\": \"Chinatown\", \"coffee\": \"Coffee\", \"gunpoint\": \"Gunpoint\"}\n",
    "datasets_order = dict(zip(list(datasets_trad_dict.values()), list(range(len(datasets_trad_dict)))))\n",
    "\n",
    "metrics_trad_dict = {'nchanges': '# changes', 'sparsity': 'Sparsity', 'L1': 'Proximity ($L_1$)', 'L2': 'Proximity ($L_2$)', 'valid': 'Validity',\n",
    "                     'increase_outlier_score': 'IOS', 'subsequences': 'NoS', 'subsequences %': 'NoS [%]'}\n",
    "\n",
    "groupby_trad_dict = {'method': 'Method' , 'dataset': 'Dataset'}\n",
    "\n",
    "methods_trad = list(methods_trad_dict.values())\n",
    "metrics = list(metrics_trad_dict.values())\n",
    "groupby_cols = list(groupby_trad_dict.values())"
   ]
  },
  {
   "cell_type": "code",
   "execution_count": 13,
   "metadata": {
    "ExecuteTime": {
     "end_time": "2024-03-04T11:41:07.886066400Z",
     "start_time": "2024-03-04T11:41:07.823392900Z"
    }
   },
   "outputs": [
    {
     "data": {
      "text/html": [
       "<div>\n",
       "<style scoped>\n",
       "    .dataframe tbody tr th:only-of-type {\n",
       "        vertical-align: middle;\n",
       "    }\n",
       "\n",
       "    .dataframe tbody tr th {\n",
       "        vertical-align: top;\n",
       "    }\n",
       "\n",
       "    .dataframe thead tr th {\n",
       "        text-align: left;\n",
       "    }\n",
       "\n",
       "    .dataframe thead tr:last-of-type th {\n",
       "        text-align: right;\n",
       "    }\n",
       "</style>\n",
       "<table border=\"1\" class=\"dataframe\">\n",
       "  <thead>\n",
       "    <tr>\n",
       "      <th></th>\n",
       "      <th colspan=\"5\" halign=\"left\"># changes</th>\n",
       "      <th colspan=\"5\" halign=\"left\">Sparsity</th>\n",
       "      <th>...</th>\n",
       "      <th colspan=\"5\" halign=\"left\">NoS</th>\n",
       "      <th colspan=\"5\" halign=\"left\">NoS [%]</th>\n",
       "    </tr>\n",
       "    <tr>\n",
       "      <th>Dataset</th>\n",
       "      <th>CBF</th>\n",
       "      <th>Chinatown</th>\n",
       "      <th>Coffee</th>\n",
       "      <th>ECG200</th>\n",
       "      <th>Gunpoint</th>\n",
       "      <th>CBF</th>\n",
       "      <th>Chinatown</th>\n",
       "      <th>Coffee</th>\n",
       "      <th>ECG200</th>\n",
       "      <th>Gunpoint</th>\n",
       "      <th>...</th>\n",
       "      <th>CBF</th>\n",
       "      <th>Chinatown</th>\n",
       "      <th>Coffee</th>\n",
       "      <th>ECG200</th>\n",
       "      <th>Gunpoint</th>\n",
       "      <th>CBF</th>\n",
       "      <th>Chinatown</th>\n",
       "      <th>Coffee</th>\n",
       "      <th>ECG200</th>\n",
       "      <th>Gunpoint</th>\n",
       "    </tr>\n",
       "    <tr>\n",
       "      <th>Method</th>\n",
       "      <th></th>\n",
       "      <th></th>\n",
       "      <th></th>\n",
       "      <th></th>\n",
       "      <th></th>\n",
       "      <th></th>\n",
       "      <th></th>\n",
       "      <th></th>\n",
       "      <th></th>\n",
       "      <th></th>\n",
       "      <th></th>\n",
       "      <th></th>\n",
       "      <th></th>\n",
       "      <th></th>\n",
       "      <th></th>\n",
       "      <th></th>\n",
       "      <th></th>\n",
       "      <th></th>\n",
       "      <th></th>\n",
       "      <th></th>\n",
       "      <th></th>\n",
       "    </tr>\n",
       "  </thead>\n",
       "  <tbody>\n",
       "    <tr>\n",
       "      <th>AB-CF</th>\n",
       "      <td>67.026667</td>\n",
       "      <td>9.029155</td>\n",
       "      <td>159.000000</td>\n",
       "      <td>56.776596</td>\n",
       "      <td>65.200000</td>\n",
       "      <td>0.523646</td>\n",
       "      <td>0.376215</td>\n",
       "      <td>0.555944</td>\n",
       "      <td>0.591423</td>\n",
       "      <td>0.434667</td>\n",
       "      <td>...</td>\n",
       "      <td>2.461111</td>\n",
       "      <td>1.104956</td>\n",
       "      <td>1.535714</td>\n",
       "      <td>1.606383</td>\n",
       "      <td>1.980000</td>\n",
       "      <td>0.038455</td>\n",
       "      <td>0.092080</td>\n",
       "      <td>0.010739</td>\n",
       "      <td>0.033466</td>\n",
       "      <td>0.026400</td>\n",
       "    </tr>\n",
       "    <tr>\n",
       "      <th>NG</th>\n",
       "      <td>39.712139</td>\n",
       "      <td>7.918367</td>\n",
       "      <td>37.178571</td>\n",
       "      <td>16.670000</td>\n",
       "      <td>29.166667</td>\n",
       "      <td>0.310251</td>\n",
       "      <td>0.329932</td>\n",
       "      <td>0.129995</td>\n",
       "      <td>0.173646</td>\n",
       "      <td>0.194444</td>\n",
       "      <td>...</td>\n",
       "      <td>1.000000</td>\n",
       "      <td>1.000000</td>\n",
       "      <td>1.000000</td>\n",
       "      <td>1.000000</td>\n",
       "      <td>1.000000</td>\n",
       "      <td>0.015625</td>\n",
       "      <td>0.083333</td>\n",
       "      <td>0.006993</td>\n",
       "      <td>0.020833</td>\n",
       "      <td>0.013333</td>\n",
       "    </tr>\n",
       "    <tr>\n",
       "      <th>Sub-SpaCE</th>\n",
       "      <td>25.821111</td>\n",
       "      <td>2.865889</td>\n",
       "      <td>22.500000</td>\n",
       "      <td>6.410000</td>\n",
       "      <td>13.886667</td>\n",
       "      <td>0.201727</td>\n",
       "      <td>0.119412</td>\n",
       "      <td>0.078671</td>\n",
       "      <td>0.066771</td>\n",
       "      <td>0.092578</td>\n",
       "      <td>...</td>\n",
       "      <td>2.387778</td>\n",
       "      <td>1.206997</td>\n",
       "      <td>3.071429</td>\n",
       "      <td>1.310000</td>\n",
       "      <td>2.186667</td>\n",
       "      <td>0.037309</td>\n",
       "      <td>0.100583</td>\n",
       "      <td>0.021479</td>\n",
       "      <td>0.027292</td>\n",
       "      <td>0.029156</td>\n",
       "    </tr>\n",
       "    <tr>\n",
       "      <th>W-CF</th>\n",
       "      <td>87.217778</td>\n",
       "      <td>23.195335</td>\n",
       "      <td>286.000000</td>\n",
       "      <td>58.220000</td>\n",
       "      <td>141.160000</td>\n",
       "      <td>0.681389</td>\n",
       "      <td>0.966472</td>\n",
       "      <td>1.000000</td>\n",
       "      <td>0.606458</td>\n",
       "      <td>0.941067</td>\n",
       "      <td>...</td>\n",
       "      <td>1.137778</td>\n",
       "      <td>1.000000</td>\n",
       "      <td>1.000000</td>\n",
       "      <td>1.210000</td>\n",
       "      <td>1.080000</td>\n",
       "      <td>0.017778</td>\n",
       "      <td>0.083333</td>\n",
       "      <td>0.006993</td>\n",
       "      <td>0.025208</td>\n",
       "      <td>0.014400</td>\n",
       "    </tr>\n",
       "  </tbody>\n",
       "</table>\n",
       "<p>4 rows × 40 columns</p>\n",
       "</div>"
      ],
      "text/plain": [
       "           # changes                                                Sparsity  \\\n",
       "Dataset          CBF  Chinatown      Coffee     ECG200    Gunpoint       CBF   \n",
       "Method                                                                         \n",
       "AB-CF      67.026667   9.029155  159.000000  56.776596   65.200000  0.523646   \n",
       "NG         39.712139   7.918367   37.178571  16.670000   29.166667  0.310251   \n",
       "Sub-SpaCE  25.821111   2.865889   22.500000   6.410000   13.886667  0.201727   \n",
       "W-CF       87.217778  23.195335  286.000000  58.220000  141.160000  0.681389   \n",
       "\n",
       "                                                   ...       NoS            \\\n",
       "Dataset   Chinatown    Coffee    ECG200  Gunpoint  ...       CBF Chinatown   \n",
       "Method                                             ...                       \n",
       "AB-CF      0.376215  0.555944  0.591423  0.434667  ...  2.461111  1.104956   \n",
       "NG         0.329932  0.129995  0.173646  0.194444  ...  1.000000  1.000000   \n",
       "Sub-SpaCE  0.119412  0.078671  0.066771  0.092578  ...  2.387778  1.206997   \n",
       "W-CF       0.966472  1.000000  0.606458  0.941067  ...  1.137778  1.000000   \n",
       "\n",
       "                                          NoS [%]                      \\\n",
       "Dataset      Coffee    ECG200  Gunpoint       CBF Chinatown    Coffee   \n",
       "Method                                                                  \n",
       "AB-CF      1.535714  1.606383  1.980000  0.038455  0.092080  0.010739   \n",
       "NG         1.000000  1.000000  1.000000  0.015625  0.083333  0.006993   \n",
       "Sub-SpaCE  3.071429  1.310000  2.186667  0.037309  0.100583  0.021479   \n",
       "W-CF       1.000000  1.210000  1.080000  0.017778  0.083333  0.006993   \n",
       "\n",
       "                               \n",
       "Dataset      ECG200  Gunpoint  \n",
       "Method                         \n",
       "AB-CF      0.033466  0.026400  \n",
       "NG         0.020833  0.013333  \n",
       "Sub-SpaCE  0.027292  0.029156  \n",
       "W-CF       0.025208  0.014400  \n",
       "\n",
       "[4 rows x 40 columns]"
      ]
     },
     "execution_count": 13,
     "metadata": {},
     "output_type": "execute_result"
    }
   ],
   "source": [
    "final_df = all_samples_results_all.rename(columns={**metrics_trad_dict, **groupby_trad_dict})\n",
    "final_df = final_df.replace(methods_trad_dict)\n",
    "final_df = final_df.replace(datasets_trad_dict)\n",
    "final_df['Validity'] = final_df['Validity'].astype(int)\n",
    "\n",
    "\n",
    "all_table_df = final_df.groupby(groupby_cols).mean()\n",
    "all_table_df.reset_index().pivot(index='Method', columns='Dataset', values=metrics)"
   ]
  },
  {
   "cell_type": "code",
   "execution_count": 14,
   "metadata": {
    "ExecuteTime": {
     "end_time": "2024-03-04T11:41:12.995180Z",
     "start_time": "2024-03-04T11:41:12.901405500Z"
    }
   },
   "outputs": [
    {
     "name": "stdout",
     "output_type": "stream",
     "text": [
      "\\begin{tabular*}{\\textwidth}{@{\\extracolsep{\\fill}}lccccc}\n",
      "\\toprule\n",
      " & \\multicolumn{5}{c}{Validity} \\\\\n",
      "Dataset & CBF & Chinatown & Coffee & ECG200 & Gunpoint \\\\\n",
      "Method &  &  &  &  &  \\\\\n",
      "\\midrule\n",
      "W-CF & 1.00 ± 0.00 & 1.00 ± 0.00 & 1.00 ± 0.00 & 1.00 ± 0.00 & 1.00 ± 0.00 \\\\\n",
      "NG & 0.96 ± 0.19 & 1.00 ± 0.00 & 1.00 ± 0.00 & 1.00 ± 0.00 & 1.00 ± 0.00 \\\\\n",
      "AB-CF & 1.00 ± 0.00 & 1.00 ± 0.00 & 1.00 ± 0.00 & 0.94 ± 0.24 & 1.00 ± 0.00 \\\\\n",
      "Sub-SpaCE & 1.00 ± 0.00 & 1.00 ± 0.00 & 1.00 ± 0.00 & 1.00 ± 0.00 & 1.00 ± 0.00 \\\\\n",
      "\\bottomrule\n",
      "\\end{tabular*}\n",
      "\n",
      "\n",
      "\\begin{tabular*}{\\textwidth}{@{\\extracolsep{\\fill}}lccccc}\n",
      "\\toprule\n",
      " & \\multicolumn{5}{c}{Sparsity} \\\\\n",
      "Dataset & CBF & Chinatown & Coffee & ECG200 & Gunpoint \\\\\n",
      "Method &  &  &  &  &  \\\\\n",
      "\\midrule\n",
      "W-CF & 0.68 ± 0.46 & 0.97 ± 0.18 & 1.00 ± 0.00 & 0.61 ± 0.48 & 0.94 ± 0.23 \\\\\n",
      "NG & 0.31 ± 0.13 & 0.33 ± 0.08 & 0.13 ± 0.06 & 0.17 ± 0.22 & 0.19 ± 0.15 \\\\\n",
      "AB-CF & 0.52 ± 0.18 & 0.38 ± 0.07 & 0.56 ± 0.16 & 0.59 ± 0.31 & 0.43 ± 0.27 \\\\\n",
      "Sub-SpaCE & 0.20 ± 0.09 & 0.12 ± 0.04 & 0.08 ± 0.03 & 0.07 ± 0.04 & 0.09 ± 0.06 \\\\\n",
      "\\bottomrule\n",
      "\\end{tabular*}\n",
      "\n",
      "\n",
      "\\begin{tabular*}{\\textwidth}{@{\\extracolsep{\\fill}}lccccc}\n",
      "\\toprule\n",
      " & \\multicolumn{5}{c}{Proximity ($L_1$)} \\\\\n",
      "Dataset & CBF & Chinatown & Coffee & ECG200 & Gunpoint \\\\\n",
      "Method &  &  &  &  &  \\\\\n",
      "\\midrule\n",
      "W-CF & 12.74 ± 14.30 & 1671.17 ± 585.41 & 3.20 ± 1.50 & 3.78 ± 2.56 & 3.62 ± 2.59 \\\\\n",
      "NG & 28.86 ± 11.59 & 841.67 ± 265.55 & 6.29 ± 2.26 & 8.89 ± 9.11 & 10.59 ± 9.39 \\\\\n",
      "AB-CF & 48.87 ± 17.89 & 956.16 ± 287.53 & 13.43 ± 4.56 & 23.00 ± 14.87 & 17.58 ± 14.58 \\\\\n",
      "Sub-SpaCE & 26.09 ± 10.66 & 647.67 ± 232.15 & 3.93 ± 1.38 & 5.62 ± 4.89 & 5.61 ± 5.11 \\\\\n",
      "\\bottomrule\n",
      "\\end{tabular*}\n",
      "\n",
      "\n",
      "\\begin{tabular*}{\\textwidth}{@{\\extracolsep{\\fill}}lccccc}\n",
      "\\toprule\n",
      " & \\multicolumn{5}{c}{Proximity ($L_2$)} \\\\\n",
      "Dataset & CBF & Chinatown & Coffee & ECG200 & Gunpoint \\\\\n",
      "Method &  &  &  &  &  \\\\\n",
      "\\midrule\n",
      "W-CF & 6.10 ± 13.22 & 662.70 ± 211.41 & 1.10 ± 0.25 & 2.22 ± 1.71 & 1.00 ± 1.04 \\\\\n",
      "NG & 5.60 ± 1.44 & 393.09 ± 124.49 & 1.26 ± 0.24 & 2.62 ± 1.48 & 2.34 ± 1.74 \\\\\n",
      "AB-CF & 7.46 ± 1.97 & 430.97 ± 123.65 & 1.38 ± 0.36 & 3.77 ± 1.85 & 2.92 ± 1.86 \\\\\n",
      "Sub-SpaCE & 5.88 ± 1.40 & 399.87 ± 120.52 & 1.00 ± 0.25 & 2.41 ± 1.30 & 1.64 ± 1.12 \\\\\n",
      "\\bottomrule\n",
      "\\end{tabular*}\n",
      "\n",
      "\n",
      "\\begin{tabular*}{\\textwidth}{@{\\extracolsep{\\fill}}lccccc}\n",
      "\\toprule\n",
      " & \\multicolumn{5}{c}{IOS} \\\\\n",
      "Dataset & CBF & Chinatown & Coffee & ECG200 & Gunpoint \\\\\n",
      "Method &  &  &  &  &  \\\\\n",
      "\\midrule\n",
      "W-CF & 0.24 ± 0.56 & 0.19 ± 0.14 & 0.06 ± 0.04 & 0.12 ± 0.14 & 0.09 ± 0.09 \\\\\n",
      "NG & 0.10 ± 0.09 & 0.02 ± 0.04 & 0.04 ± 0.04 & 0.07 ± 0.11 & 0.14 ± 0.16 \\\\\n",
      "AB-CF & 0.13 ± 0.11 & 0.02 ± 0.04 & 0.01 ± 0.02 & 0.09 ± 0.11 & 0.11 ± 0.11 \\\\\n",
      "Sub-SpaCE & 0.07 ± 0.06 & 0.02 ± 0.03 & 0.02 ± 0.03 & 0.05 ± 0.06 & 0.05 ± 0.05 \\\\\n",
      "\\bottomrule\n",
      "\\end{tabular*}\n",
      "\n",
      "\n",
      "\\begin{tabular*}{\\textwidth}{@{\\extracolsep{\\fill}}lccccc}\n",
      "\\toprule\n",
      " & \\multicolumn{5}{c}{NoS} \\\\\n",
      "Dataset & CBF & Chinatown & Coffee & ECG200 & Gunpoint \\\\\n",
      "Method &  &  &  &  &  \\\\\n",
      "\\midrule\n",
      "W-CF & 1.14 ± 0.44 & 1.00 ± 0.00 & 1.00 ± 0.00 & 1.21 ± 0.48 & 1.08 ± 0.38 \\\\\n",
      "NG & 1.00 ± 0.00 & 1.00 ± 0.00 & 1.00 ± 0.00 & 1.00 ± 0.00 & 1.00 ± 0.00 \\\\\n",
      "AB-CF & 2.46 ± 0.75 & 1.10 ± 0.31 & 1.54 ± 0.74 & 1.61 ± 0.78 & 1.98 ± 0.52 \\\\\n",
      "Sub-SpaCE & 2.39 ± 0.93 & 1.21 ± 0.41 & 3.07 ± 0.86 & 1.31 ± 0.61 & 2.19 ± 0.81 \\\\\n",
      "\\bottomrule\n",
      "\\end{tabular*}\n",
      "\n",
      "\n"
     ]
    }
   ],
   "source": [
    "final_metrics = {\n",
    "    'Validity': 'max', \n",
    "    'Sparsity': 'min',\n",
    "    'Proximity ($L_1$)': 'min',\n",
    "    'Proximity ($L_2$)': 'min', \n",
    "    'IOS': 'min',\n",
    "    'NoS': 'min'\n",
    "}\n",
    "\n",
    "for metric, operation in final_metrics.items(): \n",
    "    metric_mean_df = final_df.groupby(groupby_cols).mean()\n",
    "    metric_mean_df = metric_mean_df.reset_index().pivot(index='Method', columns='Dataset', values=[metric])\n",
    "    metric_mean_df = metric_mean_df.reindex(methods_trad).rename(index=methods_trad_dict)\n",
    "    metric_mean_df = metric_mean_df.round(2)\n",
    "    # Convert to string with 2 decimals\n",
    "    for column in metric_mean_df.columns:\n",
    "        metric_mean_df[column] = metric_mean_df[column].apply(lambda x: f'{x:.2f}')\n",
    "\n",
    "    metric_stds_df = final_df.groupby(groupby_cols).std()\n",
    "    metric_stds_df = metric_stds_df.reset_index().pivot(index='Method', columns='Dataset', values=[metric])\n",
    "    metric_stds_df = metric_stds_df.reindex(methods_trad).rename(index=methods_trad_dict)\n",
    "    metric_stds_df = metric_stds_df.round(2)\n",
    "    # Convert to string\n",
    "    for column in metric_stds_df.columns:\n",
    "        metric_stds_df[column] = metric_stds_df[column].apply(lambda x: f'{x:.2f}')\n",
    "    \n",
    "    mean_std_df = metric_mean_df.astype(str) + \" ± \" + metric_stds_df.astype(str)\n",
    "\n",
    "    latex_table = mean_std_df.to_latex(index=True)\n",
    "    latex_table = latex_table.replace(\"{r}\", \"{c}\")\n",
    "    latex_table = latex_table.replace(\"begin{tabular}{\" + ''.join(['l']*(len(datasets)+1)) + \"}\",  \"begin{tabular*}{\\\\textwidth}{@{\\\\extracolsep{\\\\fill}}lccccc}\")\n",
    "    latex_table = latex_table.replace(\"end{tabular}\",  \"end{tabular*}\")\n",
    "    print(latex_table) \n",
    "    print()"
   ]
  },
  {
   "cell_type": "code",
   "execution_count": null,
   "metadata": {},
   "outputs": [],
   "source": []
  },
  {
   "cell_type": "code",
   "execution_count": null,
   "metadata": {},
   "outputs": [],
   "source": []
  },
  {
   "cell_type": "code",
   "execution_count": null,
   "metadata": {},
   "outputs": [],
   "source": []
  },
  {
   "cell_type": "code",
   "execution_count": null,
   "metadata": {},
   "outputs": [],
   "source": [
    "aux_df"
   ]
  },
  {
   "cell_type": "code",
   "execution_count": null,
   "metadata": {},
   "outputs": [],
   "source": [
    "aux_df[(aux_df['Dataset'] == 'ECG200') & (aux_df['Method'] == 'Sub-SpaCE') & (aux_df['NoS'] == 2)]"
   ]
  },
  {
   "cell_type": "code",
   "execution_count": null,
   "metadata": {},
   "outputs": [],
   "source": [
    "import seaborn as sns\n",
    "methods = ['W-CF', 'NG', 'AB-CF', 'Sub-SpaCE']\n",
    "methods_order = dict(zip(methods, list(range(len(methods)))))\n",
    "\n",
    "aux_df = final_df.copy()\n",
    "aux_df = aux_df[aux_df['Method'].isin(methods)]\n",
    "aux_df['(sparsity + NoS) / 2'] = (aux_df['Sparsity'] + aux_df['NoS [%]']) / 2\n",
    "# aux_df['(sparsity + contiguity) / 2'] = (aux_df['NoS'] / aux_df['# changes'] ) \n",
    "aux_df['Method_ord'] = aux_df['Method'].map( dict(zip(methods, list(range(len(methods))))) )\n",
    "aux_df = aux_df.reset_index()\n",
    "aux_df = aux_df.sort_values('Method_ord', ascending=True)\n",
    "\n",
    "\n",
    "plt.figure(figsize=(10, 3))\n",
    "ax = sns.boxplot(data=aux_df, x=\"Dataset\", y=\"(sparsity + NoS) / 2\", hue=\"Method\", fill=False)\n",
    "ax.legend(loc='upper right')\n",
    "plt.legend(fontsize=8)\n",
    "plt.tight_layout()\n",
    "plt.savefig('./experiments/results/sparsity-contiguity.PNG', dpi=300)\n"
   ]
  },
  {
   "cell_type": "code",
   "execution_count": null,
   "metadata": {},
   "outputs": [],
   "source": []
  },
  {
   "cell_type": "code",
   "execution_count": null,
   "metadata": {},
   "outputs": [],
   "source": [
    "dataset = 'ECG200'\n",
    "aux_df = final_df.copy()\n",
    "aux_df = final_df[final_df['Dataset'] == dataset]\n",
    "\n",
    "aux_df['ratio'] = (aux_df['Sparsity'] + (aux_df['Contiguity']/48)) / 2\n",
    "# sns.scatterplot(data=aux_df, x=\"Contiguity\", y=\"Sparsity\", hue='Method')\n",
    "aux_df = aux_df.reset_index()\n",
    "aux_df = aux_df.sort_values(['Method', 'ratio'])\n",
    "\n",
    "aux_df['index_ordered'] = aux_df.groupby(['Method']).cumcount().values\n",
    "sns.scatterplot(data=aux_df, x=\"index_ordered\", y=\"ratio\", hue='Method')\n",
    "sns.lineplot(data=aux_df, x=\"index_ordered\", y=\"ratio\", hue='Method', legend=False)"
   ]
  },
  {
   "cell_type": "code",
   "execution_count": null,
   "metadata": {},
   "outputs": [],
   "source": [
    "aux_df = final_df.copy()\n",
    "\n",
    "aux_df['ratio'] = aux_df['Sparsity'] * (aux_df['Contiguity']**0.25)\n",
    "# sns.scatterplot(data=aux_df, x=\"Contiguity\", y=\"Sparsity\", hue='Method')\n",
    "aux_df = aux_df.reset_index()\n",
    "aux_df = aux_df.sort_values(['Method', 'ratio'])\n",
    "\n",
    "aux_df['index_ordered'] = aux_df.groupby(['Method']).cumcount().values\n",
    "sns.scatterplot(data=aux_df, x=\"index_ordered\", y=\"ratio\", hue='Method')\n",
    "sns.lineplot(data=aux_df, x=\"index_ordered\", y=\"ratio\", hue='Method', legend=False)"
   ]
  },
  {
   "cell_type": "code",
   "execution_count": null,
   "metadata": {},
   "outputs": [],
   "source": [
    "aux_df = final_df.copy()\n",
    "\n",
    "aux_df['ratio'] = aux_df['Sparsity'] * aux_df['Contiguity [%]']\n",
    "# sns.scatterplot(data=aux_df, x=\"Contiguity\", y=\"Sparsity\", hue='Method')\n",
    "aux_df = aux_df.reset_index()\n",
    "aux_df = aux_df.sort_values(['Method', 'ratio'])\n",
    "\n",
    "aux_df['index_ordered'] = aux_df.groupby(['Method']).cumcount().values\n",
    "sns.scatterplot(data=aux_df, x=\"index_ordered\", y=\"ratio\", hue='Method')\n",
    "sns.lineplot(data=aux_df, x=\"index_ordered\", y=\"ratio\", hue='Method', legend=False)"
   ]
  },
  {
   "cell_type": "code",
   "execution_count": null,
   "metadata": {
    "ExecuteTime": {
     "end_time": "2024-03-04T11:36:11.727215600Z",
     "start_time": "2024-03-04T11:36:11.571213600Z"
    }
   },
   "outputs": [],
   "source": []
  },
  {
   "cell_type": "code",
   "execution_count": null,
   "metadata": {},
   "outputs": [],
   "source": [
    "aux_df = final_df.copy()\n",
    "aux_df = aux_df[aux_df['Method'].isin(['NG', 'Ours v8'])]\n",
    "\n",
    "sns.scatterplot(data=aux_df, x=\"Contiguity [%]\", y=\"Sparsity\", hue='Method')"
   ]
  },
  {
   "cell_type": "code",
   "execution_count": null,
   "metadata": {},
   "outputs": [],
   "source": []
  },
  {
   "cell_type": "code",
   "execution_count": null,
   "metadata": {},
   "outputs": [],
   "source": []
  },
  {
   "cell_type": "markdown",
   "metadata": {},
   "source": [
    "# Counterfactual visualization"
   ]
  },
  {
   "cell_type": "raw",
   "metadata": {},
   "source": [
    "def plot_cf(x_orig, nun_example, x_cf, ax=None):\n",
    "    # Get change mask \n",
    "    found_counterfactual_mask = (x_orig.flatten() != x_cf.flatten()).astype(int)\n",
    "    \n",
    "    \"\"\"comp_df = pd.DataFrame()\n",
    "    comp_df['x_orig'] = x_orig.flatten()\n",
    "    comp_df['nun'] = nun_example.flatten()\n",
    "    \n",
    "    comp_df['mask'] = found_counterfactual_mask.flatten()\n",
    "    comp_df['x_cf'] = x_cf.flatten()\n",
    "    ax = comp_df.drop('mask', axis=1).plot(color=[\"#332288\", '#117733', \"red\"], ax=ax)\"\"\"\n",
    "    comp_df = pd.DataFrame()\n",
    "    comp_df['mask'] = found_counterfactual_mask.flatten()\n",
    "    comp_df['x_cf'] = x_cf.flatten()\n",
    "    comp_df['x_orig'] = x_orig.flatten()\n",
    "    ax = comp_df.drop('mask', axis=1).plot(color=[\"red\", \"#332288\"], ax=ax)\n",
    "    \n",
    "    # Fill segments\n",
    "    diff_mask = np.diff(found_counterfactual_mask, 1, prepend=0, append=0)\n",
    "    starts = np.clip( np.where(diff_mask == 1)[0] - 1 , 0, len(comp_df))\n",
    "    ends = np.where(diff_mask == -1)[0]\n",
    "\n",
    "    # Iterate over the mask segments and fill them with red color\n",
    "    for i in range(0, len(starts)):\n",
    "        start_idx = starts[i]\n",
    "        end_idx = ends[i]\n",
    "        # plt.fill_between(comp_df.iloc[start_idx:end_idx].index, comp_df.min(), comp_df.max(), color='red', alpha=0.7)\n",
    "        ax.axvspan(start_idx, end_idx, alpha=0.2, color='red')\n",
    "        \n",
    "    return ax"
   ]
  },
  {
   "cell_type": "code",
   "execution_count": null,
   "metadata": {},
   "outputs": [],
   "source": []
  },
  {
   "cell_type": "code",
   "execution_count": null,
   "metadata": {},
   "outputs": [],
   "source": []
  },
  {
   "cell_type": "raw",
   "metadata": {},
   "source": [
    "def plot_single_cf(x_orig, nun_example, x_cf, title=''):\n",
    "    length = x_orig.shape[0]\n",
    "    n_channels = x_orig.shape[1]\n",
    "    # Get change mask \n",
    "    found_counterfactual_mask = (x_orig != x_cf.reshape(1, length, n_channels)).astype(int)\n",
    "    diff_mask = np.diff(found_counterfactual_mask, prepend=0, append=0, axis=1)\n",
    "    \n",
    "    fig = plt.figure(figsize=(8, 3))\n",
    "    grid = gridspec.GridSpec(n_channels, 1, wspace=0.2, hspace=0.2)\n",
    "    sub_channel_axs = []\n",
    "    for i in range(n_channels):\n",
    "        ax = plt.Subplot(fig, grid[i])\n",
    "        ax.plot(nun_example.reshape(1, length, n_channels)[:, :, i].flatten(), color='grey')\n",
    "        ax.plot(x_cf.reshape(1, length, n_channels)[:, :, i].flatten(), color='red')\n",
    "        ax.plot(x_orig.reshape(1, length, n_channels)[:, :, i].flatten(), color=\"#332288\")\n",
    "        \n",
    "        # Add fill to changes\n",
    "        starts = np.clip( np.where(diff_mask[0, :, i].flatten() == 1)[0] - 1 , 0, length)\n",
    "        ends = np.where(diff_mask[0, :, i].flatten() == -1)[0]\n",
    "        # Iterate over the mask segments and fill them with red color\n",
    "        for i in range(0, len(starts)):\n",
    "            start_idx = starts[i]\n",
    "            end_idx = ends[i]\n",
    "            # plt.fill_between(comp_df.iloc[start_idx:end_idx].index, comp_df.min(), comp_df.max(), color='red', alpha=0.7)\n",
    "            ax.axvspan(start_idx, end_idx, alpha=0.2, color='red')\n",
    "            fig.add_subplot(ax)\n",
    "\n",
    "        # Add ax to list of subplots\n",
    "        sub_channel_axs.append(ax)\n",
    "\n",
    "    # Add title and legend\n",
    "    \"\"\"fig.suptitle(title)\n",
    "    fig.legend(sub_channel_axs,     # The line objects\n",
    "           labels=['NUN', 'x_cf', 'x_orig'],   # The labels for each line\n",
    "           title=\"Legend Title\"  # Title for the legend\n",
    "           )\"\"\"\n",
    "\n",
    "    # Generate ax_fig and return it\n",
    "    # ax_fig = fig.add_subplot(111)\n",
    "\n",
    "    # return ax_fig"
   ]
  },
  {
   "cell_type": "raw",
   "metadata": {},
   "source": [
    "dataset = \"coffee\"\n",
    "method = \"gen_v6.1_incremental_init\"\n",
    "# method = 'ng'\n",
    "instance = 9\n",
    "\n",
    "X_train, y_train, X_test, y_test = data_dict[dataset]\n",
    "nuns_idx = nuns_idx_dict[dataset]\n",
    "original_classes = original_classes_dict[dataset]\n",
    "sol_cfs = sol_cfs_dict_reduced[dataset][method]\n",
    "desired_classes = desired_classes_dict[dataset]\n",
    "\n",
    "print(f'Sample {instance}: original_class {y_test[instance]}, predicted_class {original_classes[instance]}, desired_class  {desired_classes[instance]}')\n",
    "plot_single_cf(X_test[instance], X_train[nuns_idx[instance]], sol_cfs[instance], title=method)"
   ]
  },
  {
   "cell_type": "code",
   "execution_count": null,
   "metadata": {},
   "outputs": [],
   "source": [
    "import math\n",
    "def plot_comp_cfs(x_orig, nun_example, x_cfs_dict):\n",
    "    \n",
    "    # Calculate auxiliary variables\n",
    "    method_names = list(x_cfs_dict.keys())\n",
    "    x_cfs = list(x_cfs_dict.values())\n",
    "    length = x_orig.shape[0]\n",
    "    n_channels = x_orig.shape[1]\n",
    "\n",
    "    # Define outer grid\n",
    "    fig = plt.figure(figsize=(18, 6))\n",
    "    grid_columns = 2\n",
    "    grid_rows = math.ceil(len(x_cfs) / grid_columns)\n",
    "    outer_grid = gridspec.GridSpec(grid_rows, grid_columns, wspace=0.1, hspace=0.3)\n",
    "\n",
    "    # Iterate through outer grid plots\n",
    "    for m, outer in enumerate(outer_grid):\n",
    "        try:\n",
    "            # Get change mask \n",
    "            x_cf = x_cfs[m]\n",
    "            method_name = method_names[m]\n",
    "            found_counterfactual_mask = (x_orig != x_cf.reshape(1, length, n_channels)).astype(int)\n",
    "            diff_mask = np.diff(found_counterfactual_mask, prepend=0, append=0, axis=1)\n",
    "        except IndexError:\n",
    "            break\n",
    "    \n",
    "        # Create inner grid\n",
    "        inner_grid = gridspec.GridSpecFromSubplotSpec(n_channels, 1, wspace=0.2, hspace=0.2, subplot_spec=outer)\n",
    "        sub_channel_axs = []\n",
    "        for i in range(n_channels):\n",
    "            ax = plt.Subplot(fig, inner_grid[i])\n",
    "            ax.plot(nun_example.reshape(1, length, n_channels)[:, :, i].flatten(), color='grey')\n",
    "            ax.plot(x_cf.reshape(1, length, n_channels)[:, :, i].flatten(), color='red')\n",
    "            ax.plot(x_orig.reshape(1, length, n_channels)[:, :, i].flatten(), color=\"#332288\")\n",
    "            # Set title if first channel\n",
    "            if i == 0:\n",
    "                ax.set_title(method_name)\n",
    "            \n",
    "            # Add fill to changes\n",
    "            starts = np.clip( np.where(diff_mask[0, :, i].flatten() == 1)[0] - 1 , 0, length)\n",
    "            ends = np.where(diff_mask[0, :, i].flatten() == -1)[0]\n",
    "            # Iterate over the mask segments and fill them with red color\n",
    "            for i in range(0, len(starts)):\n",
    "                start_idx = starts[i]\n",
    "                end_idx = ends[i]\n",
    "                # plt.fill_between(comp_df.iloc[start_idx:end_idx].index, comp_df.min(), comp_df.max(), color='red', alpha=0.7)\n",
    "                ax.axvspan(start_idx, end_idx, alpha=0.2, color='red')\n",
    "            \n",
    "            # Add ax to list of subplots\n",
    "            fig.add_subplot(ax)\n",
    "            sub_channel_axs.append(ax)\n",
    "\n",
    "    # Plot figure\n",
    "    fig.legend(\n",
    "        sub_channel_axs,     # The line objects\n",
    "        labels=['NUN', 'x_cf', 'x_orig'],   # The labels for each line\n",
    "        loc='center',\n",
    "        prop={'size': 12}\n",
    "    )\n",
    "    plt.show()\n",
    "\n"
   ]
  },
  {
   "cell_type": "code",
   "execution_count": null,
   "metadata": {},
   "outputs": [],
   "source": [
    "dataset = \"chinatown\"\n",
    "methods = [\"wcf_ng\", \"ng\", \"ab_cf\", \"subspace\"]\n",
    "instance = 3\n",
    "\n",
    "X_train, y_train, X_test, y_test = data_dict[dataset]\n",
    "nuns_idx = nuns_idx_dict[dataset]\n",
    "original_classes = original_classes_dict[dataset]\n",
    "desired_classes = desired_classes_dict[dataset]\n",
    "sol_cfs_methods = sol_cfs_dict[dataset]\n",
    "sol_cfs_methods = {method: sol_cfs[instance]['cf'] for method, sol_cfs in sol_cfs_methods.items() if method in methods}\n",
    "\n",
    "print(f'Sample {instance}: original_class {y_test[instance]}, predicted_class {original_classes[instance]}, desired_class  {desired_classes[instance]}')\n",
    "plot_comp_cfs(X_test[instance], X_train[nuns_idx[instance]], sol_cfs_methods)\n"
   ]
  },
  {
   "cell_type": "code",
   "execution_count": null,
   "metadata": {},
   "outputs": [],
   "source": []
  },
  {
   "cell_type": "code",
   "execution_count": null,
   "metadata": {},
   "outputs": [],
   "source": []
  },
  {
   "cell_type": "code",
   "execution_count": null,
   "metadata": {},
   "outputs": [],
   "source": [
    "# Create plot with examples of each method in each dataset"
   ]
  },
  {
   "cell_type": "code",
   "execution_count": null,
   "metadata": {},
   "outputs": [],
   "source": [
    "# CBF: 1, 2, 10, 18, 19\n",
    "# chinatown: 3, 7, 19\n",
    "# coffee: 1, 3, 9, 16\n",
    "# ECG200: 0, 13\n",
    "# gunpoint: 9, 10, 15 (pesimos en general)\n",
    "dataset_samples = [('CBF', 2), ('chinatown', 19), ('coffee', 3), ('ECG200', 13), ('gunpoint', 15)]\n",
    "methods_trad_dict = {\"wcf_ng\": \"W-CF\", \"ng\": \"NG\", \"ab_cf\": \"AB-CF\", \"subspace\": \"Sub-SpaCE\"}\n",
    "methods = list(methods_trad_dict.keys())\n",
    "include_nun_list = [False, False, False, False]"
   ]
  },
  {
   "cell_type": "code",
   "execution_count": null,
   "metadata": {},
   "outputs": [],
   "source": [
    "from collections import OrderedDict\n",
    "\n",
    "# Define outer grid\n",
    "fig = plt.figure(figsize=(16, 6))\n",
    "grid_rows = len(methods)\n",
    "grid_columns = len(dataset_samples)\n",
    "outer_grid = gridspec.GridSpec(grid_rows, grid_columns, wspace=0, hspace=0)\n",
    "\n",
    "# Iterate through outer grid plots\n",
    "for i_outer, outer in enumerate(outer_grid):\n",
    "    i_dataset = i_outer % grid_columns\n",
    "    dataset, instance = dataset_samples[i_dataset]\n",
    "    column_title = f'{dataset} instance {instance}'\n",
    "    \n",
    "    X_train, y_train, X_test, y_test = data_dict[dataset]\n",
    "    nuns_idx = nuns_idx_dict[dataset]\n",
    "    sol_cfs_methods = sol_cfs_dict[dataset]\n",
    "    sol_cfs_methods = {method: sol_cfs_methods[method][instance]['cf'] for method in methods}\n",
    "\n",
    "    # Calculate auxiliary variables\n",
    "    method_names = list(sol_cfs_methods.keys())\n",
    "    x_cfs = list(sol_cfs_methods.values())\n",
    "    x_orig = X_test[instance]\n",
    "    nun_example = X_train[nuns_idx[instance]]\n",
    "    length = x_orig.shape[0]\n",
    "    n_channels = x_orig.shape[1]\n",
    "\n",
    "    # get method m\n",
    "    m = i_outer // grid_columns\n",
    "    try:\n",
    "        # Get change mask \n",
    "        x_cf = x_cfs[m]\n",
    "        method_name = method_names[m]\n",
    "        found_counterfactual_mask = (x_orig != x_cf.reshape(1, length, n_channels)).astype(int)\n",
    "        diff_mask = np.diff(found_counterfactual_mask, prepend=0, append=0, axis=1)\n",
    "    except IndexError:\n",
    "        break\n",
    "\n",
    "    # Create inner grid\n",
    "    inner_grid = gridspec.GridSpecFromSubplotSpec(n_channels, 1, wspace=0, hspace=0, subplot_spec=outer)\n",
    "    sub_channel_axs = []\n",
    "    for i in range(n_channels):\n",
    "        ax = plt.Subplot(fig, inner_grid[i])\n",
    "        if include_nun_list[m]:\n",
    "            ax.plot(nun_example.reshape(1, length, n_channels)[:, :, i].flatten(), color='grey')\n",
    "        ax.plot(x_cf.reshape(1, length, n_channels)[:, :, i].flatten(), color='red')\n",
    "        ax.plot(x_orig.reshape(1, length, n_channels)[:, :, i].flatten(), color=\"#332288\")\n",
    "        # ax.axis(\"off\")\n",
    "        ax.set_xticks([])\n",
    "        ax.set_yticks([])\n",
    "        \n",
    "        # Add fill to changes\n",
    "        starts = np.clip( np.where(diff_mask[0, :, i].flatten() == 1)[0] - 1 , 0, length)\n",
    "        ends = np.where(diff_mask[0, :, i].flatten() == -1)[0]\n",
    "        # Iterate over the mask segments and fill them with red color\n",
    "        for i in range(0, len(starts)):\n",
    "            start_idx = starts[i]\n",
    "            end_idx = ends[i]\n",
    "            # plt.fill_between(comp_df.iloc[start_idx:end_idx].index, comp_df.min(), comp_df.max(), color='red', alpha=0.7)\n",
    "            ax.axvspan(start_idx, end_idx, alpha=0.2, color='red')\n",
    "        \n",
    "        # Set column titles\n",
    "        if m == 0:\n",
    "            ax.set_title(column_title)\n",
    "        if i_dataset == 0:\n",
    "            ax.set_ylabel(methods_trad_dict[method_name], size='large')\n",
    "        # Add ax to list of subplots\n",
    "        fig.add_subplot(ax)\n",
    "        sub_channel_axs.append(ax)\n",
    "\n",
    "# Plot figure\n",
    "plt.tight_layout()\n",
    "\"\"\"fig.legend(\n",
    "    sub_channel_axs,     # The line objects\n",
    "    labels=['$x^n$', 'x', \"x'\"],   # The labels for each line\n",
    "    loc='lower center',\n",
    "    # loc='center right',\n",
    "    prop={'size': 14},\n",
    "    ncol=3\n",
    ")\"\"\"\n",
    "# plt.show()\n",
    "# plt.savefig('./experiments/results/examples_cfs.png', dpi=300)\n"
   ]
  },
  {
   "cell_type": "code",
   "execution_count": null,
   "metadata": {},
   "outputs": [],
   "source": []
  },
  {
   "cell_type": "code",
   "execution_count": null,
   "metadata": {},
   "outputs": [],
   "source": []
  },
  {
   "cell_type": "code",
   "execution_count": null,
   "metadata": {},
   "outputs": [],
   "source": [
    "from collections import OrderedDict\n",
    "\n",
    "# Define outer grid\n",
    "fig = plt.figure(figsize=(12, 12))\n",
    "grid_rows = len(dataset_samples)\n",
    "grid_columns = len(methods)\n",
    "outer_grid = gridspec.GridSpec(grid_rows, grid_columns, wspace=0, hspace=0)\n",
    "\n",
    "# Iterate through outer grid plots\n",
    "for i_outer, outer in enumerate(outer_grid):\n",
    "    i_dataset = i_outer // grid_columns\n",
    "    dataset, instance = dataset_samples[i_dataset]\n",
    "    \n",
    "    X_train, y_train, X_test, y_test = data_dict[dataset]\n",
    "    nuns_idx = nuns_idx_dict[dataset]\n",
    "    sol_cfs_methods = sol_cfs_dict[dataset]\n",
    "    sol_cfs_methods = {method: sol_cfs_methods[method][instance]['cf'] for method in methods}\n",
    "\n",
    "    # Calculate auxiliary variables\n",
    "    method_names = list(sol_cfs_methods.keys())\n",
    "    x_cfs = list(sol_cfs_methods.values())\n",
    "    x_orig = X_test[instance]\n",
    "    nun_example = X_train[nuns_idx[instance]]\n",
    "    length = x_orig.shape[0]\n",
    "    n_channels = x_orig.shape[1]\n",
    "\n",
    "    # get method m\n",
    "    m = i_outer % grid_columns\n",
    "    try:\n",
    "        # Get change mask \n",
    "        x_cf = x_cfs[m]\n",
    "        method_name = method_names[m]\n",
    "        found_counterfactual_mask = (x_orig != x_cf.reshape(1, length, n_channels)).astype(int)\n",
    "        diff_mask = np.diff(found_counterfactual_mask, prepend=0, append=0, axis=1)\n",
    "    except IndexError:\n",
    "        break\n",
    "    \n",
    "    # Create inner grid\n",
    "    inner_grid = gridspec.GridSpecFromSubplotSpec(n_channels, 1, wspace=0, hspace=0, subplot_spec=outer)\n",
    "    sub_channel_axs = []\n",
    "    for i in range(n_channels):\n",
    "        ax = plt.Subplot(fig, inner_grid[i])\n",
    "        if include_nun_list[m]:\n",
    "            ax.plot(nun_example.reshape(1, length, n_channels)[:, :, i].flatten(), color='grey')\n",
    "        ax.plot(x_cf.reshape(1, length, n_channels)[:, :, i].flatten(), color='red')\n",
    "        ax.plot(x_orig.reshape(1, length, n_channels)[:, :, i].flatten(), color=\"#332288\")\n",
    "        # ax.axis(\"off\")\n",
    "        ax.set_xticks([])\n",
    "        ax.set_yticks([])\n",
    "        \n",
    "        # Add fill to changes\n",
    "        starts = np.clip( np.where(diff_mask[0, :, i].flatten() == 1)[0] - 1 , 0, length)\n",
    "        ends = np.where(diff_mask[0, :, i].flatten() == -1)[0]\n",
    "        # Iterate over the mask segments and fill them with red color\n",
    "        for i in range(0, len(starts)):\n",
    "            start_idx = starts[i]\n",
    "            end_idx = ends[i]\n",
    "            # plt.fill_between(comp_df.iloc[start_idx:end_idx].index, comp_df.min(), comp_df.max(), color='red', alpha=0.7)\n",
    "            ax.axvspan(start_idx, end_idx, alpha=0.2, color='red')\n",
    "        \n",
    "        # Set column titles\n",
    "        column_title = methods_trad_dict[method_name]\n",
    "        # row_title = f'{dataset} \\n instance {instance}'\n",
    "        row_title = f'{dataset} [{instance}]'\n",
    "        if m == 0:\n",
    "            ax.set_ylabel(row_title, fontsize=16, rotation=90)\n",
    "        if i_dataset == 0:\n",
    "            ax.set_title(column_title, fontsize=18)\n",
    "            \n",
    "        # Add ax to list of subplots\n",
    "        fig.add_subplot(ax)\n",
    "        sub_channel_axs.append(ax)\n",
    "\n",
    "# Plot figure\n",
    "plt.tight_layout()\n",
    "\"\"\"fig.legend(\n",
    "    sub_channel_axs,     # The line objects\n",
    "    labels=['$x^n$', 'x', \"x'\"],   # The labels for each line\n",
    "    # loc='lower center',\n",
    "    loc='center right',\n",
    "    prop={'size': 18},\n",
    "    ncol=1\n",
    ")\"\"\"\n",
    "# plt.show()\n",
    "plt.savefig('./experiments/results/examples_cfs.png', dpi=300)\n"
   ]
  },
  {
   "cell_type": "code",
   "execution_count": null,
   "metadata": {},
   "outputs": [],
   "source": []
  }
 ],
 "metadata": {
  "hide_input": false,
  "kernelspec": {
   "display_name": "Python 3 (ipykernel)",
   "language": "python",
   "name": "python3"
  },
  "language_info": {
   "codemirror_mode": {
    "name": "ipython",
    "version": 3
   },
   "file_extension": ".py",
   "mimetype": "text/x-python",
   "name": "python",
   "nbconvert_exporter": "python",
   "pygments_lexer": "ipython3",
   "version": "3.8.18"
  },
  "toc": {
   "base_numbering": 1,
   "nav_menu": {},
   "number_sections": true,
   "sideBar": true,
   "skip_h1_title": false,
   "title_cell": "Table of Contents",
   "title_sidebar": "Contents",
   "toc_cell": false,
   "toc_position": {},
   "toc_section_display": true,
   "toc_window_display": false
  }
 },
 "nbformat": 4,
 "nbformat_minor": 4
}
